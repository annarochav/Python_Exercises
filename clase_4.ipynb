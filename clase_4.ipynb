{
 "cells": [
  {
   "cell_type": "code",
   "execution_count": null,
   "id": "779f3a30",
   "metadata": {},
   "outputs": [],
   "source": [
    "print(\"hola mundo\")"
   ]
  },
  {
   "cell_type": "code",
   "execution_count": null,
   "id": "80a55522",
   "metadata": {},
   "outputs": [],
   "source": [
    "variable = \"hola mundo\"\n",
    "variable"
   ]
  },
  {
   "cell_type": "code",
   "execution_count": null,
   "id": "bab7c5ee",
   "metadata": {},
   "outputs": [],
   "source": [
    "x = input('Como te llamas:')\n",
    "print(f'Hola, {x}!!!')"
   ]
  },
  {
   "cell_type": "code",
   "execution_count": null,
   "id": "63843b51",
   "metadata": {},
   "outputs": [],
   "source": [
    "num_1 = (int(input('Introduce un numero entero:')))\n",
    "num_2 = (int(input('Introduce otro numero entero:')))\n",
    "print(f\"La división de {num_1} entre {num_2} da un cociente {num_1//num_2} y un resto de {num_1%num_2}\")"
   ]
  },
  {
   "cell_type": "code",
   "execution_count": null,
   "id": "2815e1a1",
   "metadata": {},
   "outputs": [],
   "source": [
    "peso_mun = 75\n",
    "peso_pay = 112\n",
    "\n",
    "ventas_pay = (int(input('Cuantos payasos se vendieron: ')))\n",
    "ventas_mun = (int(input('Cuantas munecas se vendieron: ')))\n",
    "\n",
    "print(f\"Peso total del paquete: {ventas_pay*peso_pay + ventas_mun*peso_mun} g\")"
   ]
  },
  {
   "cell_type": "code",
   "execution_count": null,
   "id": "3520ec32",
   "metadata": {},
   "outputs": [],
   "source": [
    "nombre = str(input('Como te llamas:'))\n",
    "print(f\"{nombre.upper()} tiene {len(nombre)} letras\")"
   ]
  },
  {
   "cell_type": "code",
   "execution_count": 12,
   "id": "46a61399",
   "metadata": {},
   "outputs": [
    {
     "name": "stdout",
     "output_type": "stream",
     "text": [
      "Dime una frase:hola como estads\n",
      "sdatse omoc aloh\n"
     ]
    }
   ],
   "source": [
    "#Crear un programa que pida al usuario que introduzca una frase y muestre por pantalla la frase invertida\n",
    "\n",
    "frase = input(\"Dime una frase:\")\n",
    "print(frase[::-1])"
   ]
  },
  {
   "cell_type": "code",
   "execution_count": 14,
   "id": "e32aa835",
   "metadata": {},
   "outputs": [
    {
     "name": "stdout",
     "output_type": "stream",
     "text": [
      "Dime una frase : hola como estas\n"
     ]
    },
    {
     "data": {
      "text/plain": [
       "['hola', 'como', 'estas']"
      ]
     },
     "execution_count": 14,
     "metadata": {},
     "output_type": "execute_result"
    }
   ],
   "source": [
    "#crea una lista con el input que te da el usuario\n",
    "frase_2 = [item for item in input(\"Dime una frase : \").split()]\n",
    "frase_2"
   ]
  },
  {
   "cell_type": "code",
   "execution_count": 18,
   "id": "70817d76",
   "metadata": {},
   "outputs": [
    {
     "name": "stdout",
     "output_type": "stream",
     "text": [
      "Dime una frase:hola mi nombre es anna y me mi gatita se llama kiwi\n",
      "Dime una letra:a\n",
      "La letra A se repitio 7 veces en la frase\n"
     ]
    }
   ],
   "source": [
    "#Crear un programa que pida al usuario que introduzca una frase y una letra y muestre por pantalla cuántas veces aparece dicha letra en la frase.\n",
    "frase_3 = str(input('Dime una frase:'))\n",
    "letra = str(input('Dime una letra:'))\n",
    "\n",
    "cuenta = frase_3.count(letra)\n",
    "\n",
    "print(f\"La letra {letra.upper()} se repitio {str(cuenta)} veces en la frase\")"
   ]
  },
  {
   "cell_type": "code",
   "execution_count": 21,
   "id": "0313663f",
   "metadata": {},
   "outputs": [
    {
     "name": "stdout",
     "output_type": "stream",
     "text": [
      "Dime una frase : hola como estas\n",
      "La frase tiene 3 palabras\n"
     ]
    }
   ],
   "source": [
    "#Crear un programa que pida el usuario que introduzca una frase y muestre por pantalla cuántas palabras tiene la frase.\n",
    "\n",
    "frase_4 = [item for item in input(\"Dime una frase : \").split()]\n",
    "\n",
    "print(f\"La frase tiene {len(frase_4)} palabras\")"
   ]
  },
  {
   "cell_type": "code",
   "execution_count": 26,
   "id": "3e1cf1f0",
   "metadata": {},
   "outputs": [
    {
     "name": "stdout",
     "output_type": "stream",
     "text": [
      "Dime tu edad:17\n",
      "No es mayor de edad\n"
     ]
    }
   ],
   "source": [
    "#Crear un programa que pregunte al usuario su edad y muestre por pantalla si es mayor de edad o no.\n",
    "edad = int(input('Dime tu edad:'))\n",
    "\n",
    "if edad >= 18:\n",
    "    print(\"Si es mayor de edad\")\n",
    "else:\n",
    "    print(\"No es mayor de edad\")"
   ]
  },
  {
   "cell_type": "code",
   "execution_count": 28,
   "id": "e980e91c",
   "metadata": {},
   "outputs": [
    {
     "name": "stdout",
     "output_type": "stream",
     "text": [
      "Contrasena:salesale\n",
      "Confirme Contrasena:salesale\n",
      "Si coinciden\n"
     ]
    }
   ],
   "source": [
    "#Crear un programa que almacene la cadena de caracteres contraseña en una\n",
    "#variable, pregunte al usuario por la contraseña e imprima por pantalla si la\n",
    "#contraseña introducida por el usuario coincide con la guardada en la variable.\n",
    "\n",
    "contrasena = str(input('Contrasena:'))\n",
    "confirmacion = str(input('Confirme Contrasena:'))\n",
    "if contrasena == confirmacion:\n",
    "    print(\"Si coinciden\")\n",
    "else:\n",
    "    print(\"No coinciden\")"
   ]
  },
  {
   "cell_type": "markdown",
   "id": "af969b98",
   "metadata": {},
   "source": [
    "# Crear un programa que pida al usuario dos números y muestre por pantalla su división. Si el divisor es cero el programa debe mostrar un mensaje que diga “No se puede dividir por 0”."
   ]
  },
  {
   "cell_type": "code",
   "execution_count": 31,
   "id": "9262e7e2",
   "metadata": {},
   "outputs": [
    {
     "name": "stdout",
     "output_type": "stream",
     "text": [
      "Introduce un numero entero:10\n",
      "Introduce otro numero entero:0\n",
      "No se puede dividir por 0\n"
     ]
    }
   ],
   "source": [
    "num_3 = (int(input('Introduce un numero entero:')))\n",
    "num_4 = (int(input('Introduce otro numero entero:')))\n",
    "\n",
    "if num_4 == 0:\n",
    "    print(\"No se puede dividir por 0\")\n",
    "else:\n",
    "    print(num_3//num_4)"
   ]
  },
  {
   "cell_type": "markdown",
   "id": "c1f0b036",
   "metadata": {},
   "source": [
    "# Crear un programa que pida al usuario un número entero y muestre por pantalla si es par o impar."
   ]
  },
  {
   "cell_type": "code",
   "execution_count": 37,
   "id": "7b7d2895",
   "metadata": {},
   "outputs": [
    {
     "name": "stdout",
     "output_type": "stream",
     "text": [
      "Introduce un numero entero:21\n",
      "Impar\n"
     ]
    }
   ],
   "source": [
    "num_5 = (int(input('Introduce un numero entero:')))\n",
    "\n",
    "if num_5 % 2 == 0:\n",
    "    print('Par')\n",
    "else:\n",
    "    print('Impar')    "
   ]
  },
  {
   "cell_type": "markdown",
   "id": "6461dc97",
   "metadata": {},
   "source": [
    "#Los alumnos de un curso se han dividido en dos grupos A y B de acuerdo al sexo\n",
    "#y el nombre. El grupo A está formado por las mujeres con un nombre anterior a\n",
    "#la M y los hombres con un nombre posterior a la N y el grupo B por el resto.\n",
    "#Escribir un programa que pregunte al usuario su nombre y sexo, y muestre por\n",
    "#pantalla el grupo que le corresponde.\n"
   ]
  },
  {
   "cell_type": "code",
   "execution_count": 75,
   "id": "9a1c6238",
   "metadata": {},
   "outputs": [
    {
     "name": "stdout",
     "output_type": "stream",
     "text": [
      "Como te llamas:alex\n",
      "F o M:m\n",
      "No tienes grupo\n"
     ]
    }
   ],
   "source": [
    "nombre = str(input('Como te llamas:')).lower()\n",
    "sexo = input('F o M:').lower()\n",
    "\n",
    "if nombre[0] <= \"m\" and sexo == \"f\":\n",
    "    print(\"Grupo A\")\n",
    "elif nombre[0] >= \"n\" and sexo == \"m\":\n",
    "    print(\"Grupo B\")\n",
    "else:\n",
    "    print(\"No tienes grupo\")\n"
   ]
  },
  {
   "cell_type": "markdown",
   "id": "1844ce4f",
   "metadata": {},
   "source": [
    "# Crear un programa que pida al usuario una palabra y la muestre por pantalla 10 veces.\n"
   ]
  },
  {
   "cell_type": "markdown",
   "id": "f46e35d4",
   "metadata": {},
   "source": [
    "# Crear un programa que pida al usuario una palabra y un número y muestre por pantalla la palabra la cantidad de número. Ejemplo si número es 5, mostrar la palabra 5 veces.\n"
   ]
  },
  {
   "cell_type": "markdown",
   "id": "aceda7f5",
   "metadata": {},
   "source": [
    "# Crear un programa que pregunte al usuario su edad y muestre por pantalla todos los años que ha cumplido (desde 1 hasta su edad).\n"
   ]
  },
  {
   "cell_type": "markdown",
   "id": "b8433fe4",
   "metadata": {},
   "source": [
    "# Crear un programa que pida al usuario un número entero positivo y muestre por pantalla todos los números impares desde 1 hasta ese número separados por comas."
   ]
  },
  {
   "cell_type": "markdown",
   "id": "970efdde",
   "metadata": {},
   "source": [
    "# Crear un programa que muestre por pantalla la tabla de multiplicar del 1 al 10."
   ]
  },
  {
   "cell_type": "markdown",
   "id": "65f80bfb",
   "metadata": {},
   "source": [
    "# Crear un programa que pida al usuario una palabra y luego muestre por pantalla una a una las letras de la palabra introducida empezando por la última.\n"
   ]
  },
  {
   "cell_type": "markdown",
   "id": "8eb3be81",
   "metadata": {},
   "source": [
    "# Crear un programa que muestre el eco de todo lo que el usuario introduzca hasta que el usuario escriba “salir” que terminará.\n"
   ]
  },
  {
   "cell_type": "markdown",
   "id": "87f8c69e",
   "metadata": {},
   "source": [
    "# Crear un programa que almacene las asignaturas de un curso (por ejemplo Matemáticas, Física, Química, Historia y Lengua) en una lista, pregunte al usuario la nota que ha sacado en cada asignatura, y después las muestre por pantalla con el mensaje En asignatura> has sacado nota> donde asignatura> es cada una des las asignaturas de la lista y nota> cada una de las correspondientes notas introducidas por el usuario.\n"
   ]
  },
  {
   "cell_type": "markdown",
   "id": "cac9746b",
   "metadata": {},
   "source": [
    "# Crear un programa que pregunte al usuario los números ganadores de la quiniela, los almacene en una lista y los muestre por pantalla ordenados de menor a mayor.\n"
   ]
  },
  {
   "cell_type": "markdown",
   "id": "48d1ec80",
   "metadata": {},
   "source": [
    "# Crear un programa que cree un diccionario vacío y lo vaya llenado con información sobre una persona (por ejemplo nombre, edad, sexo, teléfono, correo electrónico, etc.) que se le pida al usuario. Cada vez que se añada un nuevo dato debe imprimirse el contenido del diccionario."
   ]
  },
  {
   "cell_type": "markdown",
   "id": "91000c1a",
   "metadata": {},
   "source": [
    "# Crear un programa que guarde en una variable el diccionario {'Euro':'€', 'Dollar':'', 'Yen':'¥'}, pregunte al usuario por una divisa y muestre su símbolo o un mensaje de aviso si la divisa no está en el diccionario."
   ]
  },
  {
   "cell_type": "code",
   "execution_count": null,
   "id": "4042690a",
   "metadata": {},
   "outputs": [],
   "source": []
  },
  {
   "cell_type": "code",
   "execution_count": null,
   "id": "f614f4a5",
   "metadata": {},
   "outputs": [],
   "source": []
  }
 ],
 "metadata": {
  "kernelspec": {
   "display_name": "mlenv",
   "language": "python",
   "name": "mlenv"
  },
  "language_info": {
   "codemirror_mode": {
    "name": "ipython",
    "version": 3
   },
   "file_extension": ".py",
   "mimetype": "text/x-python",
   "name": "python",
   "nbconvert_exporter": "python",
   "pygments_lexer": "ipython3",
   "version": "3.7.13"
  }
 },
 "nbformat": 4,
 "nbformat_minor": 5
}
